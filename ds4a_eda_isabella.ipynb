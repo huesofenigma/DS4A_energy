{
  "nbformat": 4,
  "nbformat_minor": 0,
  "metadata": {
    "colab": {
      "name": "ds4a-eda-isabella.ipynb",
      "provenance": [],
      "collapsed_sections": [],
      "include_colab_link": true
    },
    "kernelspec": {
      "name": "python3",
      "display_name": "Python 3"
    },
    "language_info": {
      "name": "python"
    }
  },
  "cells": [
    {
      "cell_type": "markdown",
      "metadata": {
        "id": "view-in-github",
        "colab_type": "text"
      },
      "source": [
        "<a href=\"https://colab.research.google.com/github/huesofenigma/DS4A_energy/blob/main/ds4a_eda_isabella.ipynb\" target=\"_parent\"><img src=\"https://colab.research.google.com/assets/colab-badge.svg\" alt=\"Open In Colab\"/></a>"
      ]
    },
    {
      "cell_type": "markdown",
      "source": [
        "### DS4A Data Exploration Template\n",
        "\n",
        "> This is Isabella's notebook.\n",
        "\n",
        "\n",
        "\n",
        "\n"
      ],
      "metadata": {
        "id": "OJaHpxgEqhLY"
      }
    },
    {
      "cell_type": "code",
      "execution_count": 1,
      "metadata": {
        "id": "PlbH_o83pW1f"
      },
      "outputs": [],
      "source": [
        "import pandas as pd\n",
        "import numpy as np\n",
        "import seaborn as sns\n",
        "import matplotlib.pyplot as plt"
      ]
    },
    {
      "cell_type": "code",
      "source": [
        "# Set up google drive mount for this notebook, and create global variables for relevant data paths.\n",
        "# Make sure that you have the DS4A folder added to your own Drive!\n",
        "\n",
        "from google.colab import drive\n",
        "drive.mount('/content/drive')\n",
        "\n",
        "data_path = \"/content/drive/My Drive/DS4A/data\""
      ],
      "metadata": {
        "colab": {
          "base_uri": "https://localhost:8080/"
        },
        "id": "hmPsNuHLpc5A",
        "outputId": "8943d4dd-31f5-42a5-d5d0-c954747652b3"
      },
      "execution_count": 2,
      "outputs": [
        {
          "output_type": "stream",
          "name": "stdout",
          "text": [
            "Mounted at /content/drive\n"
          ]
        }
      ]
    },
    {
      "cell_type": "code",
      "source": [
        "# Read in sample data as a dataframe\n",
        "# Feel free to comment out datasets that you don't need\n",
        "oil_exp_2015 = pd.read_csv(data_path + \"/Crude oil Exports_2015.csv\")\n",
        "oil_imp_15_17 = pd.read_csv(data_path + \"/Crude Oil Import_20152017.csv\")\n",
        "elec_prod_2016 = pd.read_csv(data_path + \"/Electricity Production_2016.csv\")"
      ],
      "metadata": {
        "id": "L5a_mfxAp1NL"
      },
      "execution_count": 3,
      "outputs": []
    },
    {
      "cell_type": "code",
      "source": [
        "# We should transform value to a per capita measurement\n",
        "elec_prod_2016"
      ],
      "metadata": {
        "id": "sY11AEWLqJ7b",
        "colab": {
          "base_uri": "https://localhost:8080/",
          "height": 424
        },
        "outputId": "5bd77ad1-dc74-48ac-c81f-89e06bb8c2f3"
      },
      "execution_count": 4,
      "outputs": [
        {
          "output_type": "execute_result",
          "data": {
            "text/plain": [
              "                                              name  \\\n",
              "0                                            China   \n",
              "1                                    United States   \n",
              "2                                            India   \n",
              "3                                           Russia   \n",
              "4                                            Japan   \n",
              "..                                             ...   \n",
              "213  Saint Helena, Ascension, and Tristan da Cunha   \n",
              "214                                           Niue   \n",
              "215                       Northern Mariana Islands   \n",
              "216                                     Gaza Strip   \n",
              "217                                    Timor-Leste   \n",
              "\n",
              "                                            slug              value  \\\n",
              "0                                          china  5,883,000,000,000   \n",
              "1                                  united-states  4,095,000,000,000   \n",
              "2                                          india  1,386,000,000,000   \n",
              "3                                         russia  1,031,000,000,000   \n",
              "4                                          japan    989,300,000,000   \n",
              "..                                           ...                ...   \n",
              "213  saint-helena-ascension-and-tristan-da-cunha          7,000,000   \n",
              "214                                         niue          3,000,000   \n",
              "215                     northern-mariana-islands             60,600   \n",
              "216                                   gaza-strip             51,000   \n",
              "217                                  timor-leste                  0   \n",
              "\n",
              "    date_of_information  ranking                   region  \n",
              "0             2016 est.        1  East and Southeast Asia  \n",
              "1             2016 est.        2            North America  \n",
              "2             2016 est.        3               South Asia  \n",
              "3             2016 est.        4             Central Asia  \n",
              "4             2016 est.        5  East and Southeast Asia  \n",
              "..                  ...      ...                      ...  \n",
              "213           2016 est.      215                   Africa  \n",
              "214           2016 est.      216    Australia and Oceania  \n",
              "215                2009      217    Australia and Oceania  \n",
              "216           2011 est.      218              Middle East  \n",
              "217           2016 est.      219  East and Southeast Asia  \n",
              "\n",
              "[218 rows x 6 columns]"
            ],
            "text/html": [
              "\n",
              "  <div id=\"df-dc78331a-e233-4d9e-8322-f9823b165b51\">\n",
              "    <div class=\"colab-df-container\">\n",
              "      <div>\n",
              "<style scoped>\n",
              "    .dataframe tbody tr th:only-of-type {\n",
              "        vertical-align: middle;\n",
              "    }\n",
              "\n",
              "    .dataframe tbody tr th {\n",
              "        vertical-align: top;\n",
              "    }\n",
              "\n",
              "    .dataframe thead th {\n",
              "        text-align: right;\n",
              "    }\n",
              "</style>\n",
              "<table border=\"1\" class=\"dataframe\">\n",
              "  <thead>\n",
              "    <tr style=\"text-align: right;\">\n",
              "      <th></th>\n",
              "      <th>name</th>\n",
              "      <th>slug</th>\n",
              "      <th>value</th>\n",
              "      <th>date_of_information</th>\n",
              "      <th>ranking</th>\n",
              "      <th>region</th>\n",
              "    </tr>\n",
              "  </thead>\n",
              "  <tbody>\n",
              "    <tr>\n",
              "      <th>0</th>\n",
              "      <td>China</td>\n",
              "      <td>china</td>\n",
              "      <td>5,883,000,000,000</td>\n",
              "      <td>2016 est.</td>\n",
              "      <td>1</td>\n",
              "      <td>East and Southeast Asia</td>\n",
              "    </tr>\n",
              "    <tr>\n",
              "      <th>1</th>\n",
              "      <td>United States</td>\n",
              "      <td>united-states</td>\n",
              "      <td>4,095,000,000,000</td>\n",
              "      <td>2016 est.</td>\n",
              "      <td>2</td>\n",
              "      <td>North America</td>\n",
              "    </tr>\n",
              "    <tr>\n",
              "      <th>2</th>\n",
              "      <td>India</td>\n",
              "      <td>india</td>\n",
              "      <td>1,386,000,000,000</td>\n",
              "      <td>2016 est.</td>\n",
              "      <td>3</td>\n",
              "      <td>South Asia</td>\n",
              "    </tr>\n",
              "    <tr>\n",
              "      <th>3</th>\n",
              "      <td>Russia</td>\n",
              "      <td>russia</td>\n",
              "      <td>1,031,000,000,000</td>\n",
              "      <td>2016 est.</td>\n",
              "      <td>4</td>\n",
              "      <td>Central Asia</td>\n",
              "    </tr>\n",
              "    <tr>\n",
              "      <th>4</th>\n",
              "      <td>Japan</td>\n",
              "      <td>japan</td>\n",
              "      <td>989,300,000,000</td>\n",
              "      <td>2016 est.</td>\n",
              "      <td>5</td>\n",
              "      <td>East and Southeast Asia</td>\n",
              "    </tr>\n",
              "    <tr>\n",
              "      <th>...</th>\n",
              "      <td>...</td>\n",
              "      <td>...</td>\n",
              "      <td>...</td>\n",
              "      <td>...</td>\n",
              "      <td>...</td>\n",
              "      <td>...</td>\n",
              "    </tr>\n",
              "    <tr>\n",
              "      <th>213</th>\n",
              "      <td>Saint Helena, Ascension, and Tristan da Cunha</td>\n",
              "      <td>saint-helena-ascension-and-tristan-da-cunha</td>\n",
              "      <td>7,000,000</td>\n",
              "      <td>2016 est.</td>\n",
              "      <td>215</td>\n",
              "      <td>Africa</td>\n",
              "    </tr>\n",
              "    <tr>\n",
              "      <th>214</th>\n",
              "      <td>Niue</td>\n",
              "      <td>niue</td>\n",
              "      <td>3,000,000</td>\n",
              "      <td>2016 est.</td>\n",
              "      <td>216</td>\n",
              "      <td>Australia and Oceania</td>\n",
              "    </tr>\n",
              "    <tr>\n",
              "      <th>215</th>\n",
              "      <td>Northern Mariana Islands</td>\n",
              "      <td>northern-mariana-islands</td>\n",
              "      <td>60,600</td>\n",
              "      <td>2009</td>\n",
              "      <td>217</td>\n",
              "      <td>Australia and Oceania</td>\n",
              "    </tr>\n",
              "    <tr>\n",
              "      <th>216</th>\n",
              "      <td>Gaza Strip</td>\n",
              "      <td>gaza-strip</td>\n",
              "      <td>51,000</td>\n",
              "      <td>2011 est.</td>\n",
              "      <td>218</td>\n",
              "      <td>Middle East</td>\n",
              "    </tr>\n",
              "    <tr>\n",
              "      <th>217</th>\n",
              "      <td>Timor-Leste</td>\n",
              "      <td>timor-leste</td>\n",
              "      <td>0</td>\n",
              "      <td>2016 est.</td>\n",
              "      <td>219</td>\n",
              "      <td>East and Southeast Asia</td>\n",
              "    </tr>\n",
              "  </tbody>\n",
              "</table>\n",
              "<p>218 rows × 6 columns</p>\n",
              "</div>\n",
              "      <button class=\"colab-df-convert\" onclick=\"convertToInteractive('df-dc78331a-e233-4d9e-8322-f9823b165b51')\"\n",
              "              title=\"Convert this dataframe to an interactive table.\"\n",
              "              style=\"display:none;\">\n",
              "        \n",
              "  <svg xmlns=\"http://www.w3.org/2000/svg\" height=\"24px\"viewBox=\"0 0 24 24\"\n",
              "       width=\"24px\">\n",
              "    <path d=\"M0 0h24v24H0V0z\" fill=\"none\"/>\n",
              "    <path d=\"M18.56 5.44l.94 2.06.94-2.06 2.06-.94-2.06-.94-.94-2.06-.94 2.06-2.06.94zm-11 1L8.5 8.5l.94-2.06 2.06-.94-2.06-.94L8.5 2.5l-.94 2.06-2.06.94zm10 10l.94 2.06.94-2.06 2.06-.94-2.06-.94-.94-2.06-.94 2.06-2.06.94z\"/><path d=\"M17.41 7.96l-1.37-1.37c-.4-.4-.92-.59-1.43-.59-.52 0-1.04.2-1.43.59L10.3 9.45l-7.72 7.72c-.78.78-.78 2.05 0 2.83L4 21.41c.39.39.9.59 1.41.59.51 0 1.02-.2 1.41-.59l7.78-7.78 2.81-2.81c.8-.78.8-2.07 0-2.86zM5.41 20L4 18.59l7.72-7.72 1.47 1.35L5.41 20z\"/>\n",
              "  </svg>\n",
              "      </button>\n",
              "      \n",
              "  <style>\n",
              "    .colab-df-container {\n",
              "      display:flex;\n",
              "      flex-wrap:wrap;\n",
              "      gap: 12px;\n",
              "    }\n",
              "\n",
              "    .colab-df-convert {\n",
              "      background-color: #E8F0FE;\n",
              "      border: none;\n",
              "      border-radius: 50%;\n",
              "      cursor: pointer;\n",
              "      display: none;\n",
              "      fill: #1967D2;\n",
              "      height: 32px;\n",
              "      padding: 0 0 0 0;\n",
              "      width: 32px;\n",
              "    }\n",
              "\n",
              "    .colab-df-convert:hover {\n",
              "      background-color: #E2EBFA;\n",
              "      box-shadow: 0px 1px 2px rgba(60, 64, 67, 0.3), 0px 1px 3px 1px rgba(60, 64, 67, 0.15);\n",
              "      fill: #174EA6;\n",
              "    }\n",
              "\n",
              "    [theme=dark] .colab-df-convert {\n",
              "      background-color: #3B4455;\n",
              "      fill: #D2E3FC;\n",
              "    }\n",
              "\n",
              "    [theme=dark] .colab-df-convert:hover {\n",
              "      background-color: #434B5C;\n",
              "      box-shadow: 0px 1px 3px 1px rgba(0, 0, 0, 0.15);\n",
              "      filter: drop-shadow(0px 1px 2px rgba(0, 0, 0, 0.3));\n",
              "      fill: #FFFFFF;\n",
              "    }\n",
              "  </style>\n",
              "\n",
              "      <script>\n",
              "        const buttonEl =\n",
              "          document.querySelector('#df-dc78331a-e233-4d9e-8322-f9823b165b51 button.colab-df-convert');\n",
              "        buttonEl.style.display =\n",
              "          google.colab.kernel.accessAllowed ? 'block' : 'none';\n",
              "\n",
              "        async function convertToInteractive(key) {\n",
              "          const element = document.querySelector('#df-dc78331a-e233-4d9e-8322-f9823b165b51');\n",
              "          const dataTable =\n",
              "            await google.colab.kernel.invokeFunction('convertToInteractive',\n",
              "                                                     [key], {});\n",
              "          if (!dataTable) return;\n",
              "\n",
              "          const docLinkHtml = 'Like what you see? Visit the ' +\n",
              "            '<a target=\"_blank\" href=https://colab.research.google.com/notebooks/data_table.ipynb>data table notebook</a>'\n",
              "            + ' to learn more about interactive tables.';\n",
              "          element.innerHTML = '';\n",
              "          dataTable['output_type'] = 'display_data';\n",
              "          await google.colab.output.renderOutput(dataTable, element);\n",
              "          const docLink = document.createElement('div');\n",
              "          docLink.innerHTML = docLinkHtml;\n",
              "          element.appendChild(docLink);\n",
              "        }\n",
              "      </script>\n",
              "    </div>\n",
              "  </div>\n",
              "  "
            ]
          },
          "metadata": {},
          "execution_count": 4
        }
      ]
    },
    {
      "cell_type": "code",
      "source": [
        "elec_prod_2016.info(verbose=True)"
      ],
      "metadata": {
        "id": "TOZv0BRnRkbZ",
        "colab": {
          "base_uri": "https://localhost:8080/"
        },
        "outputId": "cc9d63ec-a84b-4296-fcb0-f51f84906f18"
      },
      "execution_count": 5,
      "outputs": [
        {
          "output_type": "stream",
          "name": "stdout",
          "text": [
            "<class 'pandas.core.frame.DataFrame'>\n",
            "RangeIndex: 218 entries, 0 to 217\n",
            "Data columns (total 6 columns):\n",
            " #   Column               Non-Null Count  Dtype \n",
            "---  ------               --------------  ----- \n",
            " 0   name                 218 non-null    object\n",
            " 1   slug                 218 non-null    object\n",
            " 2   value                218 non-null    object\n",
            " 3   date_of_information  218 non-null    object\n",
            " 4   ranking              218 non-null    int64 \n",
            " 5   region               218 non-null    object\n",
            "dtypes: int64(1), object(5)\n",
            "memory usage: 10.3+ KB\n"
          ]
        }
      ]
    },
    {
      "cell_type": "code",
      "source": [
        "elec_prod_2016['value_int'] = elec_prod_2016['value'].apply(lambda x: int(x.replace(',', '')))"
      ],
      "metadata": {
        "id": "kg0Jn1QosgLT"
      },
      "execution_count": 6,
      "outputs": []
    },
    {
      "cell_type": "code",
      "source": [
        "sns.boxplot(elec_prod_2016['value_int'])"
      ],
      "metadata": {
        "colab": {
          "base_uri": "https://localhost:8080/",
          "height": 354
        },
        "id": "aJy7YFYXsxiu",
        "outputId": "a15a479e-e339-49a5-c2bd-e15f28368610"
      },
      "execution_count": 7,
      "outputs": [
        {
          "output_type": "stream",
          "name": "stderr",
          "text": [
            "/usr/local/lib/python3.7/dist-packages/seaborn/_decorators.py:43: FutureWarning: Pass the following variable as a keyword arg: x. From version 0.12, the only valid positional argument will be `data`, and passing other arguments without an explicit keyword will result in an error or misinterpretation.\n",
            "  FutureWarning\n"
          ]
        },
        {
          "output_type": "execute_result",
          "data": {
            "text/plain": [
              "<matplotlib.axes._subplots.AxesSubplot at 0x7f8e326ef8d0>"
            ]
          },
          "metadata": {},
          "execution_count": 7
        },
        {
          "output_type": "display_data",
          "data": {
            "text/plain": [
              "<Figure size 432x288 with 1 Axes>"
            ],
            "image/png": "[encoded data removed]"
          },
          "metadata": {
            "needs_background": "light"
          }
        }
      ]
    },
    {
      "cell_type": "code",
      "source": [
        "sns.boxplot(np.log(elec_prod_2016['value_int']))"
      ],
      "metadata": {
        "colab": {
          "base_uri": "https://localhost:8080/",
          "height": 389
        },
        "id": "w9UFFs8ns6Ob",
        "outputId": "a8594abe-4024-4ada-9f0e-e4525b9603c0"
      },
      "execution_count": 8,
      "outputs": [
        {
          "output_type": "stream",
          "name": "stderr",
          "text": [
            "/usr/local/lib/python3.7/dist-packages/pandas/core/arraylike.py:364: RuntimeWarning: divide by zero encountered in log\n",
            "  result = getattr(ufunc, method)(*inputs, **kwargs)\n",
            "/usr/local/lib/python3.7/dist-packages/seaborn/_decorators.py:43: FutureWarning: Pass the following variable as a keyword arg: x. From version 0.12, the only valid positional argument will be `data`, and passing other arguments without an explicit keyword will result in an error or misinterpretation.\n",
            "  FutureWarning\n"
          ]
        },
        {
          "output_type": "execute_result",
          "data": {
            "text/plain": [
              "<matplotlib.axes._subplots.AxesSubplot at 0x7f8e31600450>"
            ]
          },
          "metadata": {},
          "execution_count": 8
        },
        {
          "output_type": "display_data",
          "data": {
            "text/plain": [
              "<Figure size 432x288 with 1 Axes>"
            ],
            "image/png": "[encoded data removed]"
          },
          "metadata": {
            "needs_background": "light"
          }
        }
      ]
    },
    {
      "cell_type": "code",
      "source": [
        "sns.histplot(np.log(elec_prod_2016['value_int']))"
      ],
      "metadata": {
        "colab": {
          "base_uri": "https://localhost:8080/",
          "height": 334
        },
        "id": "5w3bGhIBmRXk",
        "outputId": "45f22849-c78c-4f40-8235-c19604dc7522"
      },
      "execution_count": 9,
      "outputs": [
        {
          "output_type": "stream",
          "name": "stderr",
          "text": [
            "/usr/local/lib/python3.7/dist-packages/pandas/core/arraylike.py:364: RuntimeWarning: divide by zero encountered in log\n",
            "  result = getattr(ufunc, method)(*inputs, **kwargs)\n"
          ]
        },
        {
          "output_type": "execute_result",
          "data": {
            "text/plain": [
              "<matplotlib.axes._subplots.AxesSubplot at 0x7f8e31132450>"
            ]
          },
          "metadata": {},
          "execution_count": 9
        },
        {
          "output_type": "display_data",
          "data": {
            "text/plain": [
              "<Figure size 432x288 with 1 Axes>"
            ],
            "image/png": "[encoded data removed]"
          },
          "metadata": {
            "needs_background": "light"
          }
        }
      ]
    },
    {
      "cell_type": "code",
      "source": [
        ""
      ],
      "metadata": {
        "id": "w4jZmmlgrxtc"
      },
      "execution_count": null,
      "outputs": []
    }
  ]
}